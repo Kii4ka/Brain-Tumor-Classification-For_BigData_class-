{
 "cells": [
  {
   "cell_type": "code",
   "execution_count": 13,
   "id": "37649737",
   "metadata": {},
   "outputs": [],
   "source": [
    "import os\n",
    "import pathlib\n",
    "from PIL import Image"
   ]
  },
  {
   "cell_type": "code",
   "execution_count": 14,
   "id": "2c44e57e",
   "metadata": {},
   "outputs": [],
   "source": [
    "train_img_path = os.path.abspath(os.path.join(os.getcwd(), 'brain_archive', 'train_images'))\n"
   ]
  },
  {
   "cell_type": "code",
   "execution_count": 16,
   "id": "aac3cbe4",
   "metadata": {},
   "outputs": [
    {
     "name": "stdout",
     "output_type": "stream",
     "text": [
      "Done\n"
     ]
    }
   ],
   "source": [
    "with open(os.path.abspath(os.path.join(os.getcwd(), 'brain_archive', \"train_images.csv\")), \"w\") as f:\n",
    "    for file in os.listdir(train_img_path):\n",
    "        filename = os.fsdecode(file)\n",
    "        if filename.endswith('.jpg'):\n",
    "            nameOfFile = filename.split(\".\")\n",
    "            img = Image.open(os.path.abspath(os.path.join(train_img_path, filename)))\n",
    "            target_name = os.path.abspath(os.path.join(all_set_img_path, nameOfFile[0] + \".jpg\"))\n",
    "            rgb_image = img.convert('RGB')\n",
    "            rgb_image.save(target_name)\n",
    "            #print(\"Converted image saved as \" + target_name)\n",
    "            class_value = '0' if 'no' in filename or 'N' in filename else '1'\n",
    "            f.write(filename +',' + class_value)\n",
    "            #print(filename +',' + class_value)\n",
    "            f.write('\\n')\n",
    "    print(\"Done\")"
   ]
  },
  {
   "cell_type": "code",
   "execution_count": 17,
   "id": "f72b2e84",
   "metadata": {},
   "outputs": [],
   "source": [
    "test_img_path = os.path.abspath(os.path.join(os.getcwd(), 'brain_archive', 'test_images'))\n"
   ]
  },
  {
   "cell_type": "code",
   "execution_count": 19,
   "id": "0c1452f1",
   "metadata": {},
   "outputs": [
    {
     "name": "stdout",
     "output_type": "stream",
     "text": [
      "Done\n"
     ]
    }
   ],
   "source": [
    "with open(os.path.abspath(os.path.join(os.getcwd(), 'brain_archive', \"test_images.csv\")), \"w\") as f:\n",
    "    for file in os.listdir(train_img_path):\n",
    "        filename = os.fsdecode(file)\n",
    "        if filename.endswith('.jpg'):\n",
    "            nameOfFile = filename.split(\".\")\n",
    "            img = Image.open(os.path.abspath(os.path.join(test_img_path, filename)))\n",
    "            target_name = os.path.abspath(os.path.join(all_set_img_path, nameOfFile[0] + \".jpg\"))\n",
    "            rgb_image = img.convert('RGB')\n",
    "            rgb_image.save(target_name)\n",
    "            #print(\"Converted image saved as \" + target_name)\n",
    "            #class_value = '0' if 'no' in filename or 'N' in filename else '1'\n",
    "            f.write(filename)#+',' + class_value\n",
    "            #print(filename)# +',' + class_value\n",
    "            f.write('\\n')\n",
    "    print(\"Done\")"
   ]
  },
  {
   "cell_type": "code",
   "execution_count": null,
   "id": "f8842205-f7c9-461a-993c-3d8bc6fa26c3",
   "metadata": {},
   "outputs": [],
   "source": [
    "## use this"
   ]
  },
  {
   "cell_type": "code",
   "execution_count": 6,
   "id": "59bab571-cbaa-46ba-aba3-087444a42369",
   "metadata": {},
   "outputs": [],
   "source": [
    "all_set_img_path = os.path.abspath(os.path.join(os.getcwd(), 'brain_archive', 'all_set'))"
   ]
  },
  {
   "cell_type": "code",
   "execution_count": 11,
   "id": "e7673381-6644-4c07-b22f-2c3ac71f76b2",
   "metadata": {},
   "outputs": [
    {
     "name": "stdout",
     "output_type": "stream",
     "text": [
      "Done\n"
     ]
    }
   ],
   "source": [
    "with open(os.path.abspath(os.path.join(os.getcwd(), 'brain_archive', \"all_set.csv\")), \"w\") as f:\n",
    "    for file in os.listdir(all_set_img_path):\n",
    "        filename = os.fsdecode(file)\n",
    "        if filename.endswith('.jpg'):\n",
    "            nameOfFile = filename.split(\".\")\n",
    "            img = Image.open(os.path.abspath(os.path.join(all_set_img_path, filename)))\n",
    "            target_name = os.path.abspath(os.path.join(all_set_img_path,nameOfFile[0] + \".jpg\"))\n",
    "            rgb_image = img.convert('RGB')\n",
    "            rgb_image.save(target_name)\n",
    "            #print(\"Converted image saved as \" + target_name)\n",
    "            class_value = '0' if 'no' in filename or 'N' in filename else '1'\n",
    "            f.write(filename +',' + class_value)\n",
    "            #print(filename +',' + class_value)\n",
    "            f.write('\\n')\n",
    "    print(\"Done\")"
   ]
  },
  {
   "cell_type": "code",
   "execution_count": null,
   "id": "d0d73361-586b-41ea-bd84-1e804ca8a6ba",
   "metadata": {},
   "outputs": [],
   "source": []
  }
 ],
 "metadata": {
  "kernelspec": {
   "display_name": "Python 3 (ipykernel)",
   "language": "python",
   "name": "python3"
  },
  "language_info": {
   "codemirror_mode": {
    "name": "ipython",
    "version": 3
   },
   "file_extension": ".py",
   "mimetype": "text/x-python",
   "name": "python",
   "nbconvert_exporter": "python",
   "pygments_lexer": "ipython3",
   "version": "3.9.13"
  }
 },
 "nbformat": 4,
 "nbformat_minor": 5
}
